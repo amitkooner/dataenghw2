{
 "cells": [
  {
   "cell_type": "code",
   "execution_count": 11,
   "id": "aa97306f-f564-4ddd-9182-9597ba231850",
   "metadata": {},
   "outputs": [],
   "source": [
    "import pandas as pd\n",
    "import sqlalchemy\n",
    "from sqlalchemy import create_engine\n",
    "import pyarrow.parquet as pq\n",
    "import gcsfs"
   ]
  },
  {
   "cell_type": "code",
   "execution_count": 12,
   "id": "9ae2a9eb-51a6-4cef-8ba4-5952ade155e3",
   "metadata": {},
   "outputs": [],
   "source": [
    "files = ['green_tripdata_2020-10.csv', 'green_tripdata_2020-11.csv', 'green_tripdata_2020-12.csv']\n",
    "\n",
    "df_list = [pd.read_csv(file, low_memory=False) for file in files]\n",
    "df = pd.concat(df_list, ignore_index=True)"
   ]
  },
  {
   "cell_type": "markdown",
   "id": "f8a5f410-2caf-4d6e-9e37-0151764ea0cd",
   "metadata": {},
   "source": [
    "# Question 1"
   ]
  },
  {
   "cell_type": "code",
   "execution_count": 13,
   "id": "7f35d54e-6d35-4438-88a9-91bc9cc48ebb",
   "metadata": {},
   "outputs": [
    {
     "name": "stdout",
     "output_type": "stream",
     "text": [
      "Shape of the DataFrame after loading and concatenation: (266855, 20)\n"
     ]
    }
   ],
   "source": [
    "print(\"Shape of the DataFrame after loading and concatenation:\", df.shape)"
   ]
  },
  {
   "cell_type": "markdown",
   "id": "1adfde9b-02a5-4df0-85d0-ff4510d4791b",
   "metadata": {},
   "source": [
    "# Question 2"
   ]
  },
  {
   "cell_type": "code",
   "execution_count": 14,
   "id": "56c202b8-15fc-4bd9-bf32-0b18baf26f21",
   "metadata": {},
   "outputs": [],
   "source": [
    "df_filtered = df[(df['passenger_count'] > 0) & (df['trip_distance'] > 0)].copy()"
   ]
  },
  {
   "cell_type": "code",
   "execution_count": 15,
   "id": "3830d480-589e-46ab-b3e9-b3c1e57e8860",
   "metadata": {},
   "outputs": [
    {
     "name": "stdout",
     "output_type": "stream",
     "text": [
      "Number of rows after filtering: 139370\n"
     ]
    }
   ],
   "source": [
    "print(f\"Number of rows after filtering: {df_filtered.shape[0]}\")"
   ]
  },
  {
   "cell_type": "markdown",
   "id": "8ac686c3-48b5-48f0-926c-96142b3a90f2",
   "metadata": {},
   "source": [
    "# Question 3"
   ]
  },
  {
   "cell_type": "code",
   "execution_count": 16,
   "id": "109e07f4-c5f0-4253-a105-f51b42a2b0e6",
   "metadata": {},
   "outputs": [
    {
     "ename": "NameError",
     "evalue": "name 'data' is not defined",
     "output_type": "error",
     "traceback": [
      "\u001b[0;31m---------------------------------------------------------------------------\u001b[0m",
      "\u001b[0;31mNameError\u001b[0m                                 Traceback (most recent call last)",
      "Cell \u001b[0;32mIn[16], line 1\u001b[0m\n\u001b[0;32m----> 1\u001b[0m data[\u001b[38;5;124m'\u001b[39m\u001b[38;5;124mlpep_pickup_date\u001b[39m\u001b[38;5;124m'\u001b[39m] \u001b[38;5;241m=\u001b[39m data[\u001b[38;5;124m'\u001b[39m\u001b[38;5;124mlpep_pickup_datetime\u001b[39m\u001b[38;5;124m'\u001b[39m]\u001b[38;5;241m.\u001b[39mdt\u001b[38;5;241m.\u001b[39mdate\n",
      "\u001b[0;31mNameError\u001b[0m: name 'data' is not defined"
     ]
    }
   ],
   "source": [
    "data['lpep_pickup_date'] = data['lpep_pickup_datetime'].dt.date"
   ]
  },
  {
   "cell_type": "markdown",
   "id": "71a093da-325e-4806-aae1-a8d6ec2f4b62",
   "metadata": {},
   "source": [
    "# Question 4"
   ]
  },
  {
   "cell_type": "code",
   "execution_count": 17,
   "id": "7f9f0e77-87ab-4d72-ac74-adda468f5242",
   "metadata": {},
   "outputs": [
    {
     "name": "stdout",
     "output_type": "stream",
     "text": [
      "[ 2.  1. nan]\n"
     ]
    }
   ],
   "source": [
    "unique_vendor_ids = df['VendorID'].unique()\n",
    "print(unique_vendor_ids)"
   ]
  },
  {
   "cell_type": "markdown",
   "id": "b4d3ffdd-c914-4839-9f70-ffa2a6b6a18c",
   "metadata": {},
   "source": [
    "# Question 5"
   ]
  },
  {
   "cell_type": "code",
   "execution_count": 19,
   "id": "e74d682a-41e0-48c4-9f5a-6afe780e35f4",
   "metadata": {},
   "outputs": [
    {
     "name": "stdout",
     "output_type": "stream",
     "text": [
      "Number of columns to be renamed to snake case: 4\n"
     ]
    }
   ],
   "source": [
    "import re\n",
    "\n",
    "def is_not_snake_case(col_name):\n",
    "    return bool(re.match(r'.*[A-Z ]', col_name))\n",
    "\n",
    "columns_not_snake_case = [col for col in df.columns if is_not_snake_case(col)]\n",
    "num_columns_not_snake_case = len(columns_not_snake_case)\n",
    "\n",
    "print(f\"Number of columns to be renamed to snake case: {num_columns_not_snake_case}\")"
   ]
  },
  {
   "cell_type": "markdown",
   "id": "7f0a8787-0776-4b19-a84f-af9fcbadf1c0",
   "metadata": {},
   "source": [
    "# Question 6"
   ]
  },
  {
   "cell_type": "code",
   "execution_count": null,
   "id": "f6b30a88-2e8f-460b-92ea-6ea184a7d0ab",
   "metadata": {},
   "outputs": [],
   "source": [
    "gsutil ls gs://de_hw1/path/to/store/parquet_files/ | grep '/' | wc -l"
   ]
  },
  {
   "cell_type": "markdown",
   "id": "f4aaa5c3-dfa6-4245-b624-b053d5695edb",
   "metadata": {},
   "source": [
    "# Answer:  95"
   ]
  },
  {
   "cell_type": "code",
   "execution_count": null,
   "id": "35c8390d-c30f-441f-993f-1bec245e1ee2",
   "metadata": {},
   "outputs": [],
   "source": []
  },
  {
   "cell_type": "code",
   "execution_count": null,
   "id": "c0722f4e-d44c-4d23-a2ad-9ee3d4c555eb",
   "metadata": {},
   "outputs": [],
   "source": []
  },
  {
   "cell_type": "code",
   "execution_count": 3,
   "id": "c3497c7f-6a0f-42bc-9ce9-b4b5495ae7e2",
   "metadata": {},
   "outputs": [],
   "source": [
    "df_filtered = df[(df['passenger_count'] > 0) & (df['trip_distance'] > 0)].copy()\n",
    "\n",
    "df_filtered['lpep_pickup_date'] = pd.to_datetime(df_filtered['lpep_pickup_datetime']).dt.date\n",
    "\n",
    "df_transformed = df_filtered.rename(columns=lambda x: x.lower().replace(\"id\", \"_id\"))\n",
    "\n",
    "assert df_transformed['vendor_id'].isin([1, 2]).all(), \"vendor_id contains unexpected values\"\n",
    "assert (df_transformed['passenger_count'] > 0).all(), \"There are rows with passenger_count <= 0\"\n",
    "assert (df_transformed['trip_distance'] > 0).all(), \"There are rows with trip_distance <= 0\""
   ]
  },
  {
   "cell_type": "code",
   "execution_count": 4,
   "id": "ad582cfa-f8c2-4a62-89d5-16a1fc8238f6",
   "metadata": {},
   "outputs": [
    {
     "data": {
      "text/plain": [
       "370"
      ]
     },
     "execution_count": 4,
     "metadata": {},
     "output_type": "execute_result"
    }
   ],
   "source": [
    "username = 'postgres'\n",
    "password = 'rabd9xYUU5'\n",
    "hostname = 'localhost'\n",
    "port = '5432'\n",
    "database_name = 'green_taxi_data'\n",
    "\n",
    "engine = create_engine(f'postgresql://{username}:{password}@{hostname}:{port}/{database_name}')\n",
    "\n",
    "df_transformed.to_sql('green_taxi', con=engine, schema='mage', if_exists='replace', index=False)"
   ]
  },
  {
   "cell_type": "code",
   "execution_count": 5,
   "id": "ef015750-8325-4e6e-9596-e5abc31e3af0",
   "metadata": {},
   "outputs": [
    {
     "name": "stdout",
     "output_type": "stream",
     "text": [
      "   vendor_id lpep_pickup_datetime lpep_dropoff_datetime store_and_fwd_flag  \\\n",
      "0        2.0  2020-10-01 00:31:19   2020-10-01 00:34:55                  N   \n",
      "1        2.0  2020-10-01 00:42:12   2020-10-01 00:43:51                  N   \n",
      "2        2.0  2020-10-01 00:53:09   2020-10-01 00:55:39                  N   \n",
      "3        1.0  2020-10-01 00:12:29   2020-10-01 00:20:08                  N   \n",
      "4        1.0  2020-10-01 00:32:38   2020-10-01 00:43:02                  N   \n",
      "\n",
      "   ratecode_id  pulocation_id  dolocation_id  passenger_count  trip_distance  \\\n",
      "0          1.0              7              7              1.0           0.79   \n",
      "1          1.0            179              7              1.0           0.50   \n",
      "2          1.0            179            223              1.0           0.60   \n",
      "3          1.0            134            216              2.0           4.40   \n",
      "4          1.0             82              7              1.0           2.90   \n",
      "\n",
      "   fare_amount  ...  mta_tax  tip_amount  tolls_amount  ehail_fee  \\\n",
      "0          5.0  ...      0.5        1.58           0.0       None   \n",
      "1          4.0  ...      0.5        0.00           0.0       None   \n",
      "2          4.0  ...      0.5        1.06           0.0       None   \n",
      "3         13.5  ...      0.5        0.00           0.0       None   \n",
      "4         10.5  ...      0.5        0.00           0.0       None   \n",
      "\n",
      "  improvement_surcharge  total_amount  payment_type  trip_type  \\\n",
      "0                   0.3          7.88           1.0        1.0   \n",
      "1                   0.3          5.30           2.0        1.0   \n",
      "2                   0.3          6.36           1.0        1.0   \n",
      "3                   0.3         14.80           2.0        1.0   \n",
      "4                   0.3         11.80           2.0        1.0   \n",
      "\n",
      "   congestion_surcharge  lpep_pickup_date  \n",
      "0                   0.0        2020-10-01  \n",
      "1                   0.0        2020-10-01  \n",
      "2                   0.0        2020-10-01  \n",
      "3                   0.0        2020-10-01  \n",
      "4                   0.0        2020-10-01  \n",
      "\n",
      "[5 rows x 21 columns]\n"
     ]
    }
   ],
   "source": [
    "engine = create_engine(f'postgresql://{username}:{password}@{hostname}:{port}/{database_name}')\n",
    "\n",
    "query = \"SELECT * FROM mage.green_taxi LIMIT 5;\"\n",
    "df = pd.read_sql_query(query, con=engine)\n",
    "\n",
    "print(df.head())"
   ]
  },
  {
   "cell_type": "code",
   "execution_count": 7,
   "id": "0f8fd46f-a4ff-42c0-8851-9e91ae6debc0",
   "metadata": {},
   "outputs": [],
   "source": [
    "import pyarrow as pa\n",
    "import pyarrow.parquet as pq\n",
    "import gcsfs\n",
    "\n",
    "bucket_name = 'de_hw1'\n",
    "base_path = 'path/to/store/parquet_files/'\n",
    "\n",
    "fs = gcsfs.GCSFileSystem()\n",
    "\n",
    "def save_df_to_parquet_partitioned(df, column, bucket_name, base_path):\n",
    "    for date, df_partition in df.groupby(column):\n",
    "        file_path = f'{base_path}{date}.parquet'\n",
    "        table = pa.Table.from_pandas(df_partition)\n",
    "        with fs.open(f'gs://{bucket_name}/{file_path}', 'wb') as f:\n",
    "            pq.write_table(table, f)\n",
    "\n",
    "save_df_to_parquet_partitioned(df_transformed, 'lpep_pickup_date', bucket_name, base_path)"
   ]
  },
  {
   "cell_type": "code",
   "execution_count": 9,
   "id": "ff2f2377-6308-463f-b958-a608783af2d3",
   "metadata": {},
   "outputs": [
    {
     "data": {
      "text/plain": [
       "(5, 21)"
      ]
     },
     "execution_count": 9,
     "metadata": {},
     "output_type": "execute_result"
    }
   ],
   "source": [
    "df.shape"
   ]
  },
  {
   "cell_type": "code",
   "execution_count": null,
   "id": "c086e355-97b8-49e0-b2f3-2373be69f255",
   "metadata": {},
   "outputs": [],
   "source": []
  }
 ],
 "metadata": {
  "kernelspec": {
   "display_name": "Python 3 (ipykernel)",
   "language": "python",
   "name": "python3"
  },
  "language_info": {
   "codemirror_mode": {
    "name": "ipython",
    "version": 3
   },
   "file_extension": ".py",
   "mimetype": "text/x-python",
   "name": "python",
   "nbconvert_exporter": "python",
   "pygments_lexer": "ipython3",
   "version": "3.11.7"
  }
 },
 "nbformat": 4,
 "nbformat_minor": 5
}
